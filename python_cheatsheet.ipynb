{
 "cells": [
  {
   "cell_type": "code",
   "execution_count": null,
   "metadata": {
    "collapsed": true
   },
   "outputs": [],
   "source": [
    "import pandas as pd\n",
    "import numpy as np"
   ]
  },
  {
   "cell_type": "markdown",
   "metadata": {},
   "source": [
    "## suppress scientific notation"
   ]
  },
  {
   "cell_type": "code",
   "execution_count": null,
   "metadata": {
    "collapsed": true
   },
   "outputs": [],
   "source": [
    "\n",
    "pd.set_option('display.float_format', lambda x: '%.3f' % x)"
   ]
  },
  {
   "cell_type": "markdown",
   "metadata": {},
   "source": [
    "## filter/replace by strings contains "
   ]
  },
  {
   "cell_type": "code",
   "execution_count": null,
   "metadata": {
    "collapsed": true
   },
   "outputs": [],
   "source": [
    "# filter data with observations including certrain strings \n",
    "dataframe[dataframe['crop'].str.contains(crop)]\n",
    "\n",
    "# replace strings which contains certain strings to something else only \n",
    "temp=all_crops_data_df_dis['crop']\n",
    "all_crops_data_df_dis['correct_crop'] = pd.np.where(temp.str.contains(\"wheat\"),\"wheat\",\n",
    "                                        pd.np.where(temp.str.contains(\"cotton\"),\"cotton\",\n",
    "                                        pd.np.where(temp.str.contains(\"canola\"),\"canola\",\n",
    "                                        pd.np.where(temp.str.contains(\"sunflower-oilseed\"),\"sunflower-oilseed\",\n",
    "                                        pd.np.where(temp.str.contains(\"oilseed-spring\"),\"oilseed-spring\",\"oilseed-winter\")))))         \n",
    "                                                   "
   ]
  },
  {
   "cell_type": "markdown",
   "metadata": {},
   "source": [
    "## About list of list "
   ]
  },
  {
   "cell_type": "code",
   "execution_count": null,
   "metadata": {
    "collapsed": true
   },
   "outputs": [],
   "source": [
    "# find the max/min values from a column which is a list of list \n",
    "all_crops_data_df_dis['max_planting_date'] = [max(d) for d in all_crops_data_df_dis['planting_date']]\n",
    "# find the unique values from a list of list \n",
    "set(x for l in wheat_clean['unique_brands'] for x in l)"
   ]
  },
  {
   "cell_type": "markdown",
   "metadata": {},
   "source": [
    "## Drop duplications"
   ]
  },
  {
   "cell_type": "code",
   "execution_count": null,
   "metadata": {
    "collapsed": true
   },
   "outputs": [],
   "source": [
    "# drop duplications by multiple columns \n",
    "# if work on spark dataframe \n",
    "from pyspark.sql import Row\n",
    "yield_sdf_deduplicate =  yield_sdf.dropDuplicates(['field_id', 'country_code',\n",
    "                                                   'crop_year_season', 'crop','cell_id'])\n",
    "# if pandas dataframe \n",
    "wheat_df_dis = wheat_df.drop_duplicates(['field_id','crop_year_season','crop_group','country_code'])\n"
   ]
  },
  {
   "cell_type": "markdown",
   "metadata": {},
   "source": [
    "## find unique"
   ]
  },
  {
   "cell_type": "code",
   "execution_count": null,
   "metadata": {
    "collapsed": true
   },
   "outputs": [],
   "source": [
    "# get unique values from spark dataframe \n",
    "collect_set()\n",
    ".withColumn == dplyr::mutate\n",
    ".alias == dplyr::rename"
   ]
  },
  {
   "cell_type": "markdown",
   "metadata": {},
   "source": [
    "## conditional select"
   ]
  },
  {
   "cell_type": "code",
   "execution_count": null,
   "metadata": {
    "collapsed": true
   },
   "outputs": [],
   "source": [
    "# return list of files that including interest item only\n",
    "import s3fs\n",
    "fs = s3fs.S3FileSystem() \n",
    "crop_harvest_year_files = ['s3://' + x\n",
    "                           for x in list(itertools.chain(*[fs.ls(x)\n",
    "                                                           for x in crop_harvest_files]))\n",
    "                           if any([one_year in x.split('/')[-1:] for one_year in year_of_interest])]"
   ]
  },
  {
   "cell_type": "markdown",
   "metadata": {},
   "source": [
    "## spark "
   ]
  },
  {
   "cell_type": "code",
   "execution_count": null,
   "metadata": {
    "collapsed": true
   },
   "outputs": [],
   "source": [
    "import pyspark.sql.functions as spark_fns\n",
    "# use spark read data \n",
    "#1. read table from dsw \n",
    "spark.table('dsw_feature_store_v2_1.field_planting')\n",
    "#2. read parquet path lists\n",
    "spark.read.load(crop_harvest_year_files).alias('yield_table')\n",
    "#3. read parquet and convert to pandas dataframe \n",
    "S3_BUCKET = \"s3://com.climate.production.analytics/\"\n",
    "s3_key = \"dsw/scratch/people/cun.wang/crops_staging_data_eda/\"\n",
    "s3_uri = S3_BUCKET + s3_key\n",
    "all_crops_data_df = spark.read.load(s3_uri).toPandas()"
   ]
  },
  {
   "cell_type": "markdown",
   "metadata": {},
   "source": [
    "## ignore warnings"
   ]
  },
  {
   "cell_type": "code",
   "execution_count": null,
   "metadata": {
    "collapsed": true
   },
   "outputs": [],
   "source": [
    "import warnings\n",
    "warnings.filterwarnings(\"ignore\")"
   ]
  },
  {
   "cell_type": "markdown",
   "metadata": {},
   "source": [
    "### Apply lambda and ifelse"
   ]
  },
  {
   "cell_type": "code",
   "execution_count": null,
   "metadata": {
    "collapsed": true
   },
   "outputs": [],
   "source": [
    "all_crops_data_df['latest_harvest_date']=all_crops_data_df['latest_harvest_date'].apply(lambda x: pd.to_datetime(x, format='%Y-%m-%d') if x != 'UNKNOWN' else x)"
   ]
  }
 ],
 "metadata": {
  "anaconda-cloud": {},
  "kernelspec": {
   "display_name": "Python [Root]",
   "language": "python",
   "name": "Python [Root]"
  },
  "language_info": {
   "codemirror_mode": {
    "name": "ipython",
    "version": 2
   },
   "file_extension": ".py",
   "mimetype": "text/x-python",
   "name": "python",
   "nbconvert_exporter": "python",
   "pygments_lexer": "ipython2",
   "version": "2.7.15"
  }
 },
 "nbformat": 4,
 "nbformat_minor": 2
}
